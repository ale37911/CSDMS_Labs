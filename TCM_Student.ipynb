{
 "cells": [
  {
   "cell_type": "markdown",
   "metadata": {},
   "source": [
    "## Lowell Tilt Current Meter Analyses\n",
    "\n",
    "\n",
    "We will be analyzing the data from a month long deployment of a Lowell Tilt Current Meter: https://lowellinstruments.com/products/tcm-1-tilt-current-meter/. These meters were deployed at the boat ramp of Bog Stream in North Pond, Maine (44.647773, -69.865923) from Sept. 25th 2020 - Oct. 22, 2020 as part of a final project for GE 254 at Colby College in conjunction with the 7-lakes alliance (https://www.7lakesalliance.org/).\n",
    "\n",
    "\n",
    "Created: Dr. Alejandra C. Ortiz\n",
    "Date: Oct. 27, 2020\n",
    "\n",
    "\n",
    "Learning Objectives: \n",
    "- Importing, analyzing, and visualizing time-series data\n",
    "- Cleaning up raw data \n",
    "- Averaging burst data\n",
    "- Exploring potential drivers of velocity changes at our site (meteorological)\n",
    "\n",
    "Python skills: \n",
    "- learn how to import long-temporal data series\n",
    "- learn how to utilize date-time objects in pandas to work FOR you in time-series analyses\n",
    "- learn how to make more complicated plots in python: 2 y-axes or using color of markers to denote a 3rd variable\n"
   ]
  },
  {
   "cell_type": "code",
   "execution_count": 1,
   "metadata": {},
   "outputs": [],
   "source": [
    "#Today's lab will take you through uploading, visualizing, and analyzing the tilt-current meter data. \n",
    "#you are expected to comment this script as useful, create your own version and use these data\n",
    "#in your analysis for the final project."
   ]
  },
  {
   "cell_type": "code",
   "execution_count": 57,
   "metadata": {},
   "outputs": [],
   "source": [
    "import numpy as np\n",
    "import pandas as pd\n",
    "import matplotlib.pyplot as plt\n"
   ]
  },
  {
   "cell_type": "markdown",
   "metadata": {},
   "source": [
    "Goal of this code:\n",
    "1. Import TCM data\n",
    "2. Visualize raw data\n",
    "3. Burst average raw data\n",
    "4. Clean up raw data\n",
    "5. Re-visualize raw data"
   ]
  },
  {
   "cell_type": "code",
   "execution_count": 59,
   "metadata": {},
   "outputs": [],
   "source": [
    "#read in the current meter data\n",
    "data = pd.read_csv('Log2_GMS_Oct_(0)_CR.txt',header=0)"
   ]
  },
  {
   "cell_type": "code",
   "execution_count": 60,
   "metadata": {},
   "outputs": [
    {
     "data": {
      "text/html": [
       "<div>\n",
       "<style scoped>\n",
       "    .dataframe tbody tr th:only-of-type {\n",
       "        vertical-align: middle;\n",
       "    }\n",
       "\n",
       "    .dataframe tbody tr th {\n",
       "        vertical-align: top;\n",
       "    }\n",
       "\n",
       "    .dataframe thead th {\n",
       "        text-align: right;\n",
       "    }\n",
       "</style>\n",
       "<table border=\"1\" class=\"dataframe\">\n",
       "  <thead>\n",
       "    <tr style=\"text-align: right;\">\n",
       "      <th></th>\n",
       "      <th>ISO 8601 Time</th>\n",
       "      <th>Speed (cm/s)</th>\n",
       "      <th>Bearing (degrees)</th>\n",
       "      <th>Velocity-N (cm/s)</th>\n",
       "      <th>Velocity-E (cm/s)</th>\n",
       "      <th>DateTime</th>\n",
       "    </tr>\n",
       "  </thead>\n",
       "  <tbody>\n",
       "    <tr>\n",
       "      <th>0</th>\n",
       "      <td>2020-09-25T10:00:00.000</td>\n",
       "      <td>41.86</td>\n",
       "      <td>126.87</td>\n",
       "      <td>-25.12</td>\n",
       "      <td>33.49</td>\n",
       "      <td>2020-09-25 10:00:00.000</td>\n",
       "    </tr>\n",
       "    <tr>\n",
       "      <th>1</th>\n",
       "      <td>2020-09-25T10:00:00.063</td>\n",
       "      <td>42.05</td>\n",
       "      <td>124.86</td>\n",
       "      <td>-24.04</td>\n",
       "      <td>34.51</td>\n",
       "      <td>2020-09-25 10:00:00.063</td>\n",
       "    </tr>\n",
       "    <tr>\n",
       "      <th>2</th>\n",
       "      <td>2020-09-25T10:00:00.125</td>\n",
       "      <td>41.68</td>\n",
       "      <td>126.58</td>\n",
       "      <td>-24.84</td>\n",
       "      <td>33.47</td>\n",
       "      <td>2020-09-25 10:00:00.125</td>\n",
       "    </tr>\n",
       "    <tr>\n",
       "      <th>3</th>\n",
       "      <td>2020-09-25T10:00:00.188</td>\n",
       "      <td>42.24</td>\n",
       "      <td>123.77</td>\n",
       "      <td>-23.48</td>\n",
       "      <td>35.11</td>\n",
       "      <td>2020-09-25 10:00:00.188</td>\n",
       "    </tr>\n",
       "    <tr>\n",
       "      <th>4</th>\n",
       "      <td>2020-09-25T10:00:00.250</td>\n",
       "      <td>41.86</td>\n",
       "      <td>126.14</td>\n",
       "      <td>-24.69</td>\n",
       "      <td>33.81</td>\n",
       "      <td>2020-09-25 10:00:00.250</td>\n",
       "    </tr>\n",
       "  </tbody>\n",
       "</table>\n",
       "</div>"
      ],
      "text/plain": [
       "             ISO 8601 Time  Speed (cm/s)  Bearing (degrees)  \\\n",
       "0  2020-09-25T10:00:00.000         41.86             126.87   \n",
       "1  2020-09-25T10:00:00.063         42.05             124.86   \n",
       "2  2020-09-25T10:00:00.125         41.68             126.58   \n",
       "3  2020-09-25T10:00:00.188         42.24             123.77   \n",
       "4  2020-09-25T10:00:00.250         41.86             126.14   \n",
       "\n",
       "   Velocity-N (cm/s)  Velocity-E (cm/s)                DateTime  \n",
       "0             -25.12              33.49 2020-09-25 10:00:00.000  \n",
       "1             -24.04              34.51 2020-09-25 10:00:00.063  \n",
       "2             -24.84              33.47 2020-09-25 10:00:00.125  \n",
       "3             -23.48              35.11 2020-09-25 10:00:00.188  \n",
       "4             -24.69              33.81 2020-09-25 10:00:00.250  "
      ]
     },
     "execution_count": 60,
     "metadata": {},
     "output_type": "execute_result"
    }
   ],
   "source": [
    "#convert to date-time\n",
    "data.head()\n",
    "data['DateTime'] = pd.to_datetime(data['ISO 8601 Time'])\n",
    "data.head()"
   ]
  },
  {
   "cell_type": "code",
   "execution_count": 61,
   "metadata": {},
   "outputs": [
    {
     "data": {
      "text/plain": [
       "<matplotlib.axes._subplots.AxesSubplot at 0x7fbcee25b4a8>"
      ]
     },
     "execution_count": 61,
     "metadata": {},
     "output_type": "execute_result"
    },
    {
     "data": {
      "image/png": "[encoded data removed]",
      "text/plain": [
       "<Figure size 432x288 with 1 Axes>"
      ]
     },
     "metadata": {
      "needs_background": "light"
     },
     "output_type": "display_data"
    }
   ],
   "source": [
    "#let's just plot the raw data, speed & date-time\n",
    "data.plot(x='DateTime',y='Speed (cm/s)',title='Raw UnAveData')"
   ]
  },
  {
   "cell_type": "code",
   "execution_count": 62,
   "metadata": {},
   "outputs": [
    {
     "name": "stdout",
     "output_type": "stream",
     "text": [
      "(8985120, 5)\n",
      "(8985120, 6)\n"
     ]
    }
   ],
   "source": [
    "#option 1 - set date-time column as INDEX for dataframe instead of a column\n",
    "data2 = data.set_index('DateTime')\n",
    "data2.head()\n",
    "print(data2.shape)\n",
    "print(data.shape)\n",
    "#how many columns are there in data2? How can you check column names?"
   ]
  },
  {
   "cell_type": "code",
   "execution_count": 64,
   "metadata": {},
   "outputs": [],
   "source": [
    "#now let's remove pre-deployment & post-deployment\n",
    "data2s = data2['2020-09-25 12:00:00':'2020-10-20 01:00:00']"
   ]
  },
  {
   "cell_type": "code",
   "execution_count": 65,
   "metadata": {},
   "outputs": [
    {
     "data": {
      "text/plain": [
       "<matplotlib.axes._subplots.AxesSubplot at 0x7fbbfaeb6d30>"
      ]
     },
     "execution_count": 65,
     "metadata": {},
     "output_type": "execute_result"
    },
    {
     "data": {
      "image/png": "[encoded data removed]",
      "text/plain": [
       "<Figure size 432x288 with 1 Axes>"
      ]
     },
     "metadata": {
      "needs_background": "light"
     },
     "output_type": "display_data"
    }
   ],
   "source": [
    "data2s.plot(y='Speed (cm/s)')"
   ]
  },
  {
   "cell_type": "code",
   "execution_count": null,
   "metadata": {},
   "outputs": [],
   "source": [
    "#option 2 - subset without datetime as index\n",
    "datas = data[(data['DateTime'] > '2020-09-25 11:00:00') & (data['DateTime'] < '2020-10-20 12:00:00')]\n",
    "datas.plot(x = 'DateTime',y='Speed (cm/s)')"
   ]
  },
  {
   "cell_type": "code",
   "execution_count": 13,
   "metadata": {},
   "outputs": [],
   "source": [
    "#same outcome - 2 different methods."
   ]
  },
  {
   "cell_type": "code",
   "execution_count": null,
   "metadata": {},
   "outputs": [],
   "source": [
    "#now let's average over each burst - first let's get a smaller subset to more easily \n",
    "#understand what is happening in our data\n",
    "\n",
    "ds = data2s['2020-09-29 11:00:00':'2020-09-29 11:30:00']\n",
    "#now plot this smaller data frame\n",
    "print(ds.head())\n",
    "ds.plot(y='Speed (cm/s)',style='.--')\n",
    "#ok so now what do we see in the data?"
   ]
  },
  {
   "cell_type": "code",
   "execution_count": null,
   "metadata": {},
   "outputs": [],
   "source": [
    "print(1/.0625)\n",
    "#let's use resample to make this much easier! - we made burst measurements remember\n",
    "ds_ave = ds.resample('30S').mean().dropna()\n",
    "ax1 = ds.plot(y='Speed (cm/s)')\n",
    "ds_ave.plot(y='Speed (cm/s)',color='green',ax = ax1)\n",
    "#what are the differences between ds_ave & ds? does this make sense?"
   ]
  },
  {
   "cell_type": "code",
   "execution_count": 1,
   "metadata": {},
   "outputs": [
    {
     "ename": "NameError",
     "evalue": "name 'ds' is not defined",
     "output_type": "error",
     "traceback": [
      "\u001b[0;31m---------------------------------------------------------------------------\u001b[0m",
      "\u001b[0;31mNameError\u001b[0m                                 Traceback (most recent call last)",
      "\u001b[0;32m<ipython-input-1-9c2dcecea5ad>\u001b[0m in \u001b[0;36m<module>\u001b[0;34m\u001b[0m\n\u001b[1;32m      3\u001b[0m \u001b[0;34m\u001b[0m\u001b[0m\n\u001b[1;32m      4\u001b[0m \u001b[0;31m#so convert the index back to datetime\u001b[0m\u001b[0;34m\u001b[0m\u001b[0;34m\u001b[0m\u001b[0;34m\u001b[0m\u001b[0m\n\u001b[0;32m----> 5\u001b[0;31m \u001b[0mds\u001b[0m \u001b[0;34m=\u001b[0m \u001b[0mds\u001b[0m\u001b[0;34m.\u001b[0m\u001b[0mreset_index\u001b[0m\u001b[0;34m(\u001b[0m\u001b[0;34m)\u001b[0m\u001b[0;34m\u001b[0m\u001b[0;34m\u001b[0m\u001b[0m\n\u001b[0m\u001b[1;32m      6\u001b[0m \u001b[0mds_ave\u001b[0m \u001b[0;34m=\u001b[0m \u001b[0mds_ave\u001b[0m\u001b[0;34m.\u001b[0m\u001b[0mreset_index\u001b[0m\u001b[0;34m(\u001b[0m\u001b[0;34m)\u001b[0m\u001b[0;34m\u001b[0m\u001b[0;34m\u001b[0m\u001b[0m\n\u001b[1;32m      7\u001b[0m \u001b[0mds\u001b[0m\u001b[0;34m.\u001b[0m\u001b[0mhead\u001b[0m\u001b[0;34m(\u001b[0m\u001b[0;34m)\u001b[0m\u001b[0;34m\u001b[0m\u001b[0;34m\u001b[0m\u001b[0m\n",
      "\u001b[0;31mNameError\u001b[0m: name 'ds' is not defined"
     ]
    }
   ],
   "source": [
    "#now sometimes it is HELPFUL to have the index as datetime, othertimes it's helpful for this to be a column instead\n",
    "#eg try and plot the above ds (unaveraged) as a SCATTER plot instead of a line plot\n",
    "\n",
    "#so convert the index back to datetime\n",
    "ds = ds.reset_index()\n",
    "ds_ave = ds_ave.reset_index()\n",
    "ds.head()"
   ]
  },
  {
   "cell_type": "code",
   "execution_count": null,
   "metadata": {},
   "outputs": [],
   "source": [
    "ds.head()"
   ]
  },
  {
   "cell_type": "code",
   "execution_count": null,
   "metadata": {},
   "outputs": [],
   "source": [
    "#ok now let's apply this burst averaging to ALL the data\n",
    "data_ave = data2s.resample('30S').mean().dropna()"
   ]
  },
  {
   "cell_type": "code",
   "execution_count": 36,
   "metadata": {},
   "outputs": [
    {
     "data": {
      "text/html": [
       "<div>\n",
       "<style scoped>\n",
       "    .dataframe tbody tr th:only-of-type {\n",
       "        vertical-align: middle;\n",
       "    }\n",
       "\n",
       "    .dataframe tbody tr th {\n",
       "        vertical-align: top;\n",
       "    }\n",
       "\n",
       "    .dataframe thead th {\n",
       "        text-align: right;\n",
       "    }\n",
       "</style>\n",
       "<table border=\"1\" class=\"dataframe\">\n",
       "  <thead>\n",
       "    <tr style=\"text-align: right;\">\n",
       "      <th></th>\n",
       "      <th>Speed (cm/s)</th>\n",
       "      <th>Bearing (degrees)</th>\n",
       "      <th>Velocity-N (cm/s)</th>\n",
       "      <th>Velocity-E (cm/s)</th>\n",
       "    </tr>\n",
       "    <tr>\n",
       "      <th>DateTime</th>\n",
       "      <th></th>\n",
       "      <th></th>\n",
       "      <th></th>\n",
       "      <th></th>\n",
       "    </tr>\n",
       "  </thead>\n",
       "  <tbody>\n",
       "    <tr>\n",
       "      <th>2020-09-25 11:00:00</th>\n",
       "      <td>1.594792</td>\n",
       "      <td>167.614500</td>\n",
       "      <td>-1.551417</td>\n",
       "      <td>0.333396</td>\n",
       "    </tr>\n",
       "    <tr>\n",
       "      <th>2020-09-25 11:02:00</th>\n",
       "      <td>1.603000</td>\n",
       "      <td>167.595229</td>\n",
       "      <td>-1.560000</td>\n",
       "      <td>0.334354</td>\n",
       "    </tr>\n",
       "    <tr>\n",
       "      <th>2020-09-25 11:04:00</th>\n",
       "      <td>1.580812</td>\n",
       "      <td>167.529562</td>\n",
       "      <td>-1.538917</td>\n",
       "      <td>0.330208</td>\n",
       "    </tr>\n",
       "    <tr>\n",
       "      <th>2020-09-25 11:06:00</th>\n",
       "      <td>1.625146</td>\n",
       "      <td>167.270042</td>\n",
       "      <td>-1.580354</td>\n",
       "      <td>0.347917</td>\n",
       "    </tr>\n",
       "    <tr>\n",
       "      <th>2020-09-25 11:08:00</th>\n",
       "      <td>1.590125</td>\n",
       "      <td>167.725792</td>\n",
       "      <td>-1.549292</td>\n",
       "      <td>0.330333</td>\n",
       "    </tr>\n",
       "    <tr>\n",
       "      <th>...</th>\n",
       "      <td>...</td>\n",
       "      <td>...</td>\n",
       "      <td>...</td>\n",
       "      <td>...</td>\n",
       "    </tr>\n",
       "    <tr>\n",
       "      <th>2020-10-20 11:52:00</th>\n",
       "      <td>1.955437</td>\n",
       "      <td>103.303021</td>\n",
       "      <td>-0.454104</td>\n",
       "      <td>1.892646</td>\n",
       "    </tr>\n",
       "    <tr>\n",
       "      <th>2020-10-20 11:54:00</th>\n",
       "      <td>1.979687</td>\n",
       "      <td>102.158896</td>\n",
       "      <td>-0.424687</td>\n",
       "      <td>1.922146</td>\n",
       "    </tr>\n",
       "    <tr>\n",
       "      <th>2020-10-20 11:56:00</th>\n",
       "      <td>2.010458</td>\n",
       "      <td>101.535271</td>\n",
       "      <td>-0.408583</td>\n",
       "      <td>1.959042</td>\n",
       "    </tr>\n",
       "    <tr>\n",
       "      <th>2020-10-20 11:58:00</th>\n",
       "      <td>1.886292</td>\n",
       "      <td>102.115083</td>\n",
       "      <td>-0.403854</td>\n",
       "      <td>1.831917</td>\n",
       "    </tr>\n",
       "    <tr>\n",
       "      <th>2020-10-20 12:00:00</th>\n",
       "      <td>1.976250</td>\n",
       "      <td>105.991250</td>\n",
       "      <td>-0.548750</td>\n",
       "      <td>1.885625</td>\n",
       "    </tr>\n",
       "  </tbody>\n",
       "</table>\n",
       "<p>18031 rows × 4 columns</p>\n",
       "</div>"
      ],
      "text/plain": [
       "                     Speed (cm/s)  Bearing (degrees)  Velocity-N (cm/s)  \\\n",
       "DateTime                                                                  \n",
       "2020-09-25 11:00:00      1.594792         167.614500          -1.551417   \n",
       "2020-09-25 11:02:00      1.603000         167.595229          -1.560000   \n",
       "2020-09-25 11:04:00      1.580812         167.529562          -1.538917   \n",
       "2020-09-25 11:06:00      1.625146         167.270042          -1.580354   \n",
       "2020-09-25 11:08:00      1.590125         167.725792          -1.549292   \n",
       "...                           ...                ...                ...   \n",
       "2020-10-20 11:52:00      1.955437         103.303021          -0.454104   \n",
       "2020-10-20 11:54:00      1.979687         102.158896          -0.424687   \n",
       "2020-10-20 11:56:00      2.010458         101.535271          -0.408583   \n",
       "2020-10-20 11:58:00      1.886292         102.115083          -0.403854   \n",
       "2020-10-20 12:00:00      1.976250         105.991250          -0.548750   \n",
       "\n",
       "                     Velocity-E (cm/s)  \n",
       "DateTime                                \n",
       "2020-09-25 11:00:00           0.333396  \n",
       "2020-09-25 11:02:00           0.334354  \n",
       "2020-09-25 11:04:00           0.330208  \n",
       "2020-09-25 11:06:00           0.347917  \n",
       "2020-09-25 11:08:00           0.330333  \n",
       "...                                ...  \n",
       "2020-10-20 11:52:00           1.892646  \n",
       "2020-10-20 11:54:00           1.922146  \n",
       "2020-10-20 11:56:00           1.959042  \n",
       "2020-10-20 11:58:00           1.831917  \n",
       "2020-10-20 12:00:00           1.885625  \n",
       "\n",
       "[18031 rows x 4 columns]"
      ]
     },
     "execution_count": 36,
     "metadata": {},
     "output_type": "execute_result"
    }
   ],
   "source": [
    "data_ave\n",
    "#why did I have dropna? what happens without that? Over what other resampling time period could I have averaged?"
   ]
  },
  {
   "cell_type": "code",
   "execution_count": 39,
   "metadata": {},
   "outputs": [
    {
     "name": "stdout",
     "output_type": "stream",
     "text": [
      "(18031, 7)\n",
      "(8654416, 5)\n"
     ]
    },
    {
     "data": {
      "image/png": "[encoded data removed]",
      "text/plain": [
       "<Figure size 432x288 with 1 Axes>"
      ]
     },
     "metadata": {
      "needs_background": "light"
     },
     "output_type": "display_data"
    }
   ],
   "source": [
    "#now let's visualize the dataset again cleaned up\n",
    "data_ave = data_ave.reset_index()\n",
    "#go ahead and replot data_ave time-series of flow speed\n",
    "data_ave.plot(x='DateTime',y='Speed (cm/s)')\n",
    "print(data_ave.shape)\n",
    "print(data2s.shape)"
   ]
  },
  {
   "cell_type": "code",
   "execution_count": 40,
   "metadata": {},
   "outputs": [
    {
     "data": {
      "text/plain": [
       "<matplotlib.axes._subplots.AxesSubplot at 0x7fbcebaf2080>"
      ]
     },
     "execution_count": 40,
     "metadata": {},
     "output_type": "execute_result"
    },
    {
     "data": {
      "image/png": "[encoded data removed]",
      "text/plain": [
       "<Figure size 432x288 with 1 Axes>"
      ]
     },
     "metadata": {
      "needs_background": "light"
     },
     "output_type": "display_data"
    }
   ],
   "source": [
    "#so now what do we see? What can we change or investigate? What other things can we plot?\n",
    "data_ave.plot(x='Speed (cm/s)',y='Bearing (degrees)',kind='scatter')"
   ]
  },
  {
   "cell_type": "code",
   "execution_count": null,
   "metadata": {},
   "outputs": [],
   "source": [
    "#what is the above plot? What might this tell us? Are they ways we can make this plot more useful? \n",
    "#what is one downside to plotting bearing as a linear increasing value?"
   ]
  },
  {
   "cell_type": "code",
   "execution_count": 41,
   "metadata": {},
   "outputs": [
    {
     "data": {
      "text/plain": [
       "<matplotlib.axes._subplots.AxesSubplot at 0x7fbcea138dd8>"
      ]
     },
     "execution_count": 41,
     "metadata": {},
     "output_type": "execute_result"
    },
    {
     "data": {
      "image/png": "[encoded data removed]",
      "text/plain": [
       "<Figure size 432x288 with 2 Axes>"
      ]
     },
     "metadata": {
      "needs_background": "light"
     },
     "output_type": "display_data"
    }
   ],
   "source": [
    "#how else can we analyze the flow magnitude AND DIRECTION?\n",
    "#option 1 - scatter plot with color highlighting changes in magnitude\n",
    "data_ave.plot(x='DateTime',y='Speed (cm/s)',kind='scatter',c='Bearing (degrees)',cmap='viridis')"
   ]
  },
  {
   "cell_type": "code",
   "execution_count": 56,
   "metadata": {},
   "outputs": [
    {
     "data": {
      "text/plain": [
       "<matplotlib.colorbar.Colorbar at 0x7fbc328b2a90>"
      ]
     },
     "execution_count": 56,
     "metadata": {},
     "output_type": "execute_result"
    },
    {
     "data": {
      "image/png": "[encoded data removed]",
      "text/plain": [
       "<Figure size 432x288 with 2 Axes>"
      ]
     },
     "metadata": {
      "needs_background": "light"
     },
     "output_type": "display_data"
    }
   ],
   "source": [
    "#option 2, look at how bearing changes with time\n",
    "#so now plot a time-series of bearing where you set the color of scatter dots to be dependent on flow speed\n",
    "import matplotlib.colors as colors\n",
    "\n",
    "#data_ave.plot(x='DateTime',y='Bearing (degrees)',kind='scatter',c='Speed (cm/s)',cmap='viridis')\n",
    "fig, ax = plt.subplots()\n",
    "aa = ax.scatter(data_ave.DateTime,data_ave['Bearing (degrees)'],c=data_ave['Speed (cm/s)'],norm=colors.LogNorm(vmin=1,vmax=7))\n",
    "fig.colorbar(aa, ax=ax)"
   ]
  },
  {
   "cell_type": "code",
   "execution_count": null,
   "metadata": {},
   "outputs": [],
   "source": [
    "#option 3 --> rose plots\n",
    "#check out the below code\n",
    "# https://windrose.readthedocs.io/en/latest/usage.html\n",
    "from windrose import WindroseAxes\n",
    "from matplotlib import pyplot as plt\n",
    "import matplotlib.cm as cm\n",
    "import numpy as np\n",
    "\n",
    "#now what is our direction? and what is our speed?\n",
    "#2 methods:\n",
    "ax = WindroseAxes.from_ax()\n",
    "ax.bar(data_ave['Bearing (degrees)'], data_ave['Speed (cm/s)'], \\\n",
    "       normed=True, opening=0.9, edgecolor='white')\n",
    "ax.set_legend()"
   ]
  },
  {
   "cell_type": "code",
   "execution_count": null,
   "metadata": {},
   "outputs": [],
   "source": [
    "#or using pandas data frames more innately\n",
    "#Mandatory:\n",
    "#df: Pandas DataFrame with DateTimeIndex as index\n",
    "from windrose import plot_windrose\n",
    "\n",
    "d_ave = data_ave.set_index('DateTime')\n",
    "plot_windrose(d_ave,var_name='Speed (cm/s)',direction_name = 'Bearing (degrees)',kind='bar',normed=True, \\\n",
    "             bins = np.arange(0,4,.5))\n",
    "#what do we now see as trends?\n",
    "#how can you change the binning of the flow speeds?\n",
    "#what about changing the directional binning?"
   ]
  },
  {
   "cell_type": "code",
   "execution_count": null,
   "metadata": {},
   "outputs": [],
   "source": [
    "#what's the rest of the data we have?"
   ]
  },
  {
   "cell_type": "code",
   "execution_count": null,
   "metadata": {},
   "outputs": [],
   "source": [
    "# read in temp. data\n",
    "temp = pd.read_csv('Log1_BogStream_Oct_(0)_T.txt',header=0)"
   ]
  },
  {
   "cell_type": "code",
   "execution_count": null,
   "metadata": {},
   "outputs": [],
   "source": [
    "temp['DateTime'] = pd.to_datetime(temp['ISO 8601 Time'])"
   ]
  },
  {
   "cell_type": "code",
   "execution_count": null,
   "metadata": {},
   "outputs": [],
   "source": [
    "temp = temp.set_index('DateTime')\n",
    "#what am I doing here?"
   ]
  },
  {
   "cell_type": "code",
   "execution_count": null,
   "metadata": {},
   "outputs": [],
   "source": [
    "temps = temp['2020-09-25 11:00:00':'2020-10-20 12:00:00']\n",
    "#what does the above line create?\n",
    "temps"
   ]
  },
  {
   "cell_type": "code",
   "execution_count": null,
   "metadata": {},
   "outputs": [],
   "source": [
    "#let's go ahead and plot the time-series of temperature data"
   ]
  },
  {
   "cell_type": "code",
   "execution_count": null,
   "metadata": {},
   "outputs": [],
   "source": [
    "#now let's plot everything together\n",
    "ax1 = data_ave.plot(x='DateTime',y='Speed (cm/s)',legend=False)\n",
    "temps = temps.reset_index()\n",
    "ax2 = ax1.twinx()\n",
    "temps.plot(secondary_y=True,x='DateTime',y='Temperature (C)',ax=ax2,color='black',legend=False)"
   ]
  },
  {
   "cell_type": "code",
   "execution_count": null,
   "metadata": {},
   "outputs": [],
   "source": [
    "#now plotting with scatter, so I'm showing flow speed, direction, time, and temperature on ONE graph\n",
    "fig, ax1 = plt.subplots()\n",
    "\n",
    "plt.scatter(data_ave.DateTime,data_ave['Speed (cm/s)'],c = data_ave['Bearing (degrees)'],cmap='viridis')\n",
    "plt.colorbar(orientation='horizontal',label='Direction (degs)', pad = 0.2)\n",
    "ax2 = ax1.twinx()\n",
    "ax2.plot(temps.DateTime,temps['Temperature (C)'],color='black')\n",
    "\n",
    "ax1.set_ylabel('Speed (cm/s)')\n",
    "ax1.set_xlabel('Date Time')\n",
    "ax2.set_ylabel('Temperature (C)')\n"
   ]
  },
  {
   "cell_type": "markdown",
   "metadata": {},
   "source": [
    "Don't forget to fix up all your plots: make sure they have LEGENDS (as needed), units, x & y labels (and colorbar labels),\n",
    "and titles. And go ahead and save these figures."
   ]
  },
  {
   "cell_type": "code",
   "execution_count": 1,
   "metadata": {},
   "outputs": [],
   "source": [
    "#start thinking about how you can calculate the bed shear stress from the above dataset.\n",
    "#how might these data correlate with precipitation events or other events\n",
    "#are there trends in the data? Over time? how can you analyze these trends?\n",
    "#what peaks exist in your data?"
   ]
  },
  {
   "cell_type": "markdown",
   "metadata": {},
   "source": [
    "## <font color = green> Assignment 2: Weather Data </font> "
   ]
  },
  {
   "cell_type": "code",
   "execution_count": null,
   "metadata": {},
   "outputs": [],
   "source": [
    "#now let's look at the local meteorological data\n",
    "weather = pd.read_csv('WeatherData_Norridgewock.txt',header=1,parse_dates=['Date'],\\\n",
    "                     date_parser=lambda x: pd.datetime.strptime(x, '%d-%b').replace(year=2020))\n",
    "#ahh now what new thing was done here? "
   ]
  },
  {
   "cell_type": "code",
   "execution_count": null,
   "metadata": {},
   "outputs": [],
   "source": [
    "#let's look at this data!\n",
    "weather = weather.set_index('Date')\n",
    "weather"
   ]
  },
  {
   "cell_type": "code",
   "execution_count": null,
   "metadata": {},
   "outputs": [],
   "source": [
    "weather.plot()\n",
    "#what what just happened?\n",
    "#how useful is this plot? Why might you use this? Why should you not use this?"
   ]
  },
  {
   "cell_type": "code",
   "execution_count": null,
   "metadata": {},
   "outputs": [],
   "source": [
    "col = weather.columns\n",
    "print(col)"
   ]
  },
  {
   "cell_type": "code",
   "execution_count": null,
   "metadata": {},
   "outputs": [],
   "source": [
    "wsi = np.append(np.arange(1,14,3),15)\n",
    "print(wsi)\n",
    "col[wsi]\n",
    "ws = weather[col[wsi]]\n",
    "ws.head()\n",
    "#now what am I doing?"
   ]
  },
  {
   "cell_type": "code",
   "execution_count": null,
   "metadata": {},
   "outputs": [],
   "source": [
    "ws.columns = ['Temp (F)', 'Dew Pt (F)','Humidity (%)', 'Wind Speed (mph)','Pressure (hg)','Precip (in)']\n",
    "ws.plot()\n",
    "#is this more useful as a plot?"
   ]
  },
  {
   "cell_type": "code",
   "execution_count": null,
   "metadata": {},
   "outputs": [],
   "source": [
    "#check your units! Time to make sure everything is in the SAME units (aka temperature, precip, etc)\n",
    "#change everything to match units from tilt current meters\n"
   ]
  },
  {
   "cell_type": "code",
   "execution_count": null,
   "metadata": {},
   "outputs": [],
   "source": [
    "#let's just look at our relevant data\n",
    "#go ahead and set the index to the date-time object\n",
    "#now subset ws to ONLY the dates you deployed the TCM"
   ]
  },
  {
   "cell_type": "code",
   "execution_count": null,
   "metadata": {},
   "outputs": [],
   "source": [
    "#lets see how this looks with our data\n",
    "ax1 = temps.plot(x='DateTime',y='Temperature (C)')\n",
    "ws = ws.reset_index()\n",
    "ws.plot(x='Date',y='Temp (C)',ax=ax1)"
   ]
  },
  {
   "cell_type": "code",
   "execution_count": null,
   "metadata": {},
   "outputs": [],
   "source": [
    "#what else can we look at?\n",
    "#go ahead and plot the average flow speed & average wind speed (think 2 y-axes)\n"
   ]
  },
  {
   "cell_type": "code",
   "execution_count": null,
   "metadata": {},
   "outputs": [],
   "source": [
    "#what else can we look at?\n",
    "#go ahead and plot the flow speed and precip data\n"
   ]
  },
  {
   "cell_type": "markdown",
   "metadata": {},
   "source": [
    "Ok nice job filling out this code. Make sure you understand what is happening here. Go ahead and think about ways you can adapt this code to read in and analyze other data from the fieldtrip (like that bathymetry data or sediment data). \n",
    "\n",
    "Python scripts exist online for a whole host of things (pretty cool things)."
   ]
  }
 ],
 "metadata": {
  "kernelspec": {
   "display_name": "Python 3",
   "language": "python",
   "name": "python3"
  },
  "language_info": {
   "codemirror_mode": {
    "name": "ipython",
    "version": 3
   },
   "file_extension": ".py",
   "mimetype": "text/x-python",
   "name": "python",
   "nbconvert_exporter": "python",
   "pygments_lexer": "ipython3",
   "version": "3.6.10"
  }
 },
 "nbformat": 4,
 "nbformat_minor": 2
}

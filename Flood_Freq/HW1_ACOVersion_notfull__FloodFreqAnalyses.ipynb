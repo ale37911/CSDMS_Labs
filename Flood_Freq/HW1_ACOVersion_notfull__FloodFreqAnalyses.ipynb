{
 "cells": [
  {
   "cell_type": "markdown",
   "metadata": {},
   "source": [
    "GE 254 - Intro to Geomorph\n",
    "HW 1 - Using Python to calculate Flood Frequency Analysis\n",
    "\n",
    "Due: Thursday Sept. 24th by 11 am\n",
    "\n",
    "For this assignment, we will be taking the work we did in excel on flood frequency and instead creating a python script to do the same thing. You will be given a partially done code. You need to finish the code. Answer any questions shown as comments in the code. And most importantly, comment the code extensively. The end result should be a useful python script that takes any USGS flow data and calculates predictive flood frequency analysis. "
   ]
  },
  {
   "cell_type": "markdown",
   "metadata": {},
   "source": [
    "Objectives:\n",
    "    1. Practice using Python Pandas DataFrames to import, manipulate, and visualize data\n",
    "    2. Learn some powerful tools for subsetting your dataframes\n",
    "    3. Practice visualizing data "
   ]
  },
  {
   "cell_type": "code",
   "execution_count": 2,
   "metadata": {},
   "outputs": [],
   "source": [
    "#import libraries\n",
    "\n",
    "#let's use pandas dataframes again\n",
    "import numpy as np\n",
    "import pandas as pd\n",
    "import matplotlib.pyplot as plt #so I've imported 3 libraries using common \n",
    "#abbreviations to reference these libraries in my code. This is personal choice.\n",
    "#If I just wrote \"import numpy\", it would still work but when I call a numpy command\n",
    "#I would have to write numpy.matrix() vs. np.matrix() - it's all about laziness\n",
    "#and minimizing typing."
   ]
  },
  {
   "cell_type": "markdown",
   "metadata": {},
   "source": [
    "First make sure you've downloaded the correct data. I want you to download peak flow measurements for 1 of these four sites (you will be assigned in class):02086849, . I also want you to download daily data for your site, on the waterdata.usgs.gov/nwis/sw site click on daily data instead of peak-flow data. Remember to download all available data for discharge and gage height (if available). Remember to select tab-separated file then download that file as a .txt, by right clicking on the page and selecting \"save as\".  "
   ]
  },
  {
   "cell_type": "markdown",
   "metadata": {},
   "source": [
    "Let's start by reading in the peak-flow measurements - this is similar to what we did in Lab 2"
   ]
  },
  {
   "cell_type": "code",
   "execution_count": 3,
   "metadata": {},
   "outputs": [
    {
     "data": {
      "text/html": [
       "<div>\n",
       "<style scoped>\n",
       "    .dataframe tbody tr th:only-of-type {\n",
       "        vertical-align: middle;\n",
       "    }\n",
       "\n",
       "    .dataframe tbody tr th {\n",
       "        vertical-align: top;\n",
       "    }\n",
       "\n",
       "    .dataframe thead th {\n",
       "        text-align: right;\n",
       "    }\n",
       "</style>\n",
       "<table border=\"1\" class=\"dataframe\">\n",
       "  <thead>\n",
       "    <tr style=\"text-align: right;\">\n",
       "      <th></th>\n",
       "      <th>agency_cd</th>\n",
       "      <th>site_no</th>\n",
       "      <th>peak_dt</th>\n",
       "      <th>peak_tm</th>\n",
       "      <th>peak_va</th>\n",
       "      <th>peak_cd</th>\n",
       "      <th>gage_ht</th>\n",
       "      <th>gage_ht_cd</th>\n",
       "    </tr>\n",
       "  </thead>\n",
       "  <tbody>\n",
       "    <tr>\n",
       "      <th>0</th>\n",
       "      <td>USGS</td>\n",
       "      <td>2086849</td>\n",
       "      <td>1983-05-20</td>\n",
       "      <td>NaN</td>\n",
       "      <td>2470.0</td>\n",
       "      <td>NaN</td>\n",
       "      <td>11.05</td>\n",
       "      <td>NaN</td>\n",
       "    </tr>\n",
       "    <tr>\n",
       "      <th>1</th>\n",
       "      <td>USGS</td>\n",
       "      <td>2086849</td>\n",
       "      <td>1984-04-05</td>\n",
       "      <td>NaN</td>\n",
       "      <td>2470.0</td>\n",
       "      <td>NaN</td>\n",
       "      <td>11.03</td>\n",
       "      <td>NaN</td>\n",
       "    </tr>\n",
       "    <tr>\n",
       "      <th>2</th>\n",
       "      <td>USGS</td>\n",
       "      <td>2086849</td>\n",
       "      <td>1985-02-01</td>\n",
       "      <td>NaN</td>\n",
       "      <td>1950.0</td>\n",
       "      <td>NaN</td>\n",
       "      <td>9.35</td>\n",
       "      <td>NaN</td>\n",
       "    </tr>\n",
       "    <tr>\n",
       "      <th>3</th>\n",
       "      <td>USGS</td>\n",
       "      <td>2086849</td>\n",
       "      <td>1986-08-20</td>\n",
       "      <td>NaN</td>\n",
       "      <td>2830.0</td>\n",
       "      <td>NaN</td>\n",
       "      <td>12.10</td>\n",
       "      <td>NaN</td>\n",
       "    </tr>\n",
       "    <tr>\n",
       "      <th>4</th>\n",
       "      <td>USGS</td>\n",
       "      <td>2086849</td>\n",
       "      <td>1987-04-16</td>\n",
       "      <td>NaN</td>\n",
       "      <td>1560.0</td>\n",
       "      <td>NaN</td>\n",
       "      <td>8.01</td>\n",
       "      <td>NaN</td>\n",
       "    </tr>\n",
       "  </tbody>\n",
       "</table>\n",
       "</div>"
      ],
      "text/plain": [
       "  agency_cd  site_no     peak_dt peak_tm  peak_va  peak_cd  gage_ht  \\\n",
       "0      USGS  2086849  1983-05-20     NaN   2470.0      NaN    11.05   \n",
       "1      USGS  2086849  1984-04-05     NaN   2470.0      NaN    11.03   \n",
       "2      USGS  2086849  1985-02-01     NaN   1950.0      NaN     9.35   \n",
       "3      USGS  2086849  1986-08-20     NaN   2830.0      NaN    12.10   \n",
       "4      USGS  2086849  1987-04-16     NaN   1560.0      NaN     8.01   \n",
       "\n",
       "   gage_ht_cd  \n",
       "0         NaN  \n",
       "1         NaN  \n",
       "2         NaN  \n",
       "3         NaN  \n",
       "4         NaN  "
      ]
     },
     "execution_count": 3,
     "metadata": {},
     "output_type": "execute_result"
    }
   ],
   "source": [
    "#ok let's break down this command - can you tell me what header does?\n",
    "#what is the delimiter mean?\n",
    "# why did I write skiprows?\n",
    "#what is usecols do?\n",
    "#for help with this use google - or go to the help menu above and select pandas\n",
    "peak_all = pd.read_csv('peak_02086849.txt',header=72,delimiter=\"\\t\",\\\n",
    "                       skiprows=[73],usecols=range(0,8),parse_dates=True)\n",
    "peak_all.head()\n",
    "\n",
    "#if for some reason when peak is displayed below and you see weird values\n",
    "#in the first couple of rows, you need to adjust the values given to header\n",
    "#and skiprows. "
   ]
  },
  {
   "cell_type": "code",
   "execution_count": 4,
   "metadata": {},
   "outputs": [],
   "source": [
    "#now let's rename these columns to something a bit more useful\n",
    "new_column_names = ['Agency', 'SiteNo', 'Date', 'Time', \\\n",
    "                    'Discharge (cfs)', 'Discharge_quality','Gage_ht (ft)',\\\n",
    "                    'Gage_quality']\n",
    "#ok now what does the \"\\\" do in the above line of code?"
   ]
  },
  {
   "cell_type": "code",
   "execution_count": 5,
   "metadata": {},
   "outputs": [],
   "source": [
    "peak_all.columns = new_column_names"
   ]
  },
  {
   "cell_type": "code",
   "execution_count": 6,
   "metadata": {},
   "outputs": [
    {
     "data": {
      "text/html": [
       "<div>\n",
       "<style scoped>\n",
       "    .dataframe tbody tr th:only-of-type {\n",
       "        vertical-align: middle;\n",
       "    }\n",
       "\n",
       "    .dataframe tbody tr th {\n",
       "        vertical-align: top;\n",
       "    }\n",
       "\n",
       "    .dataframe thead th {\n",
       "        text-align: right;\n",
       "    }\n",
       "</style>\n",
       "<table border=\"1\" class=\"dataframe\">\n",
       "  <thead>\n",
       "    <tr style=\"text-align: right;\">\n",
       "      <th></th>\n",
       "      <th>Agency</th>\n",
       "      <th>SiteNo</th>\n",
       "      <th>Date</th>\n",
       "      <th>Time</th>\n",
       "      <th>Discharge (cfs)</th>\n",
       "      <th>Discharge_quality</th>\n",
       "      <th>Gage_ht (ft)</th>\n",
       "      <th>Gage_quality</th>\n",
       "    </tr>\n",
       "  </thead>\n",
       "  <tbody>\n",
       "    <tr>\n",
       "      <th>0</th>\n",
       "      <td>USGS</td>\n",
       "      <td>2086849</td>\n",
       "      <td>1983-05-20</td>\n",
       "      <td>NaN</td>\n",
       "      <td>2470.0</td>\n",
       "      <td>NaN</td>\n",
       "      <td>11.05</td>\n",
       "      <td>NaN</td>\n",
       "    </tr>\n",
       "    <tr>\n",
       "      <th>1</th>\n",
       "      <td>USGS</td>\n",
       "      <td>2086849</td>\n",
       "      <td>1984-04-05</td>\n",
       "      <td>NaN</td>\n",
       "      <td>2470.0</td>\n",
       "      <td>NaN</td>\n",
       "      <td>11.03</td>\n",
       "      <td>NaN</td>\n",
       "    </tr>\n",
       "    <tr>\n",
       "      <th>2</th>\n",
       "      <td>USGS</td>\n",
       "      <td>2086849</td>\n",
       "      <td>1985-02-01</td>\n",
       "      <td>NaN</td>\n",
       "      <td>1950.0</td>\n",
       "      <td>NaN</td>\n",
       "      <td>9.35</td>\n",
       "      <td>NaN</td>\n",
       "    </tr>\n",
       "    <tr>\n",
       "      <th>3</th>\n",
       "      <td>USGS</td>\n",
       "      <td>2086849</td>\n",
       "      <td>1986-08-20</td>\n",
       "      <td>NaN</td>\n",
       "      <td>2830.0</td>\n",
       "      <td>NaN</td>\n",
       "      <td>12.10</td>\n",
       "      <td>NaN</td>\n",
       "    </tr>\n",
       "    <tr>\n",
       "      <th>4</th>\n",
       "      <td>USGS</td>\n",
       "      <td>2086849</td>\n",
       "      <td>1987-04-16</td>\n",
       "      <td>NaN</td>\n",
       "      <td>1560.0</td>\n",
       "      <td>NaN</td>\n",
       "      <td>8.01</td>\n",
       "      <td>NaN</td>\n",
       "    </tr>\n",
       "  </tbody>\n",
       "</table>\n",
       "</div>"
      ],
      "text/plain": [
       "  Agency   SiteNo        Date Time  Discharge (cfs)  Discharge_quality  \\\n",
       "0   USGS  2086849  1983-05-20  NaN           2470.0                NaN   \n",
       "1   USGS  2086849  1984-04-05  NaN           2470.0                NaN   \n",
       "2   USGS  2086849  1985-02-01  NaN           1950.0                NaN   \n",
       "3   USGS  2086849  1986-08-20  NaN           2830.0                NaN   \n",
       "4   USGS  2086849  1987-04-16  NaN           1560.0                NaN   \n",
       "\n",
       "   Gage_ht (ft)  Gage_quality  \n",
       "0         11.05           NaN  \n",
       "1         11.03           NaN  \n",
       "2          9.35           NaN  \n",
       "3         12.10           NaN  \n",
       "4          8.01           NaN  "
      ]
     },
     "execution_count": 6,
     "metadata": {},
     "output_type": "execute_result"
    }
   ],
   "source": [
    "peak_all.head()"
   ]
  },
  {
   "cell_type": "code",
   "execution_count": 7,
   "metadata": {},
   "outputs": [
    {
     "data": {
      "text/html": [
       "<div>\n",
       "<style scoped>\n",
       "    .dataframe tbody tr th:only-of-type {\n",
       "        vertical-align: middle;\n",
       "    }\n",
       "\n",
       "    .dataframe tbody tr th {\n",
       "        vertical-align: top;\n",
       "    }\n",
       "\n",
       "    .dataframe thead th {\n",
       "        text-align: right;\n",
       "    }\n",
       "</style>\n",
       "<table border=\"1\" class=\"dataframe\">\n",
       "  <thead>\n",
       "    <tr style=\"text-align: right;\">\n",
       "      <th></th>\n",
       "      <th>Agency</th>\n",
       "      <th>SiteNo</th>\n",
       "      <th>Date</th>\n",
       "      <th>Time</th>\n",
       "      <th>Discharge (cfs)</th>\n",
       "      <th>Discharge_quality</th>\n",
       "      <th>Gage_ht (ft)</th>\n",
       "      <th>Gage_quality</th>\n",
       "      <th>Discharge (m3/sec)</th>\n",
       "      <th>Gage_ht (m)</th>\n",
       "    </tr>\n",
       "  </thead>\n",
       "  <tbody>\n",
       "    <tr>\n",
       "      <th>0</th>\n",
       "      <td>USGS</td>\n",
       "      <td>02086849</td>\n",
       "      <td>1983-05-20</td>\n",
       "      <td>NaN</td>\n",
       "      <td>2470.0</td>\n",
       "      <td>NaN</td>\n",
       "      <td>11.05</td>\n",
       "      <td>NaN</td>\n",
       "      <td>69.942612</td>\n",
       "      <td>36.253282</td>\n",
       "    </tr>\n",
       "    <tr>\n",
       "      <th>1</th>\n",
       "      <td>USGS</td>\n",
       "      <td>02086849</td>\n",
       "      <td>1984-04-05</td>\n",
       "      <td>NaN</td>\n",
       "      <td>2470.0</td>\n",
       "      <td>NaN</td>\n",
       "      <td>11.03</td>\n",
       "      <td>NaN</td>\n",
       "      <td>69.942612</td>\n",
       "      <td>36.187665</td>\n",
       "    </tr>\n",
       "    <tr>\n",
       "      <th>2</th>\n",
       "      <td>USGS</td>\n",
       "      <td>02086849</td>\n",
       "      <td>1985-02-01</td>\n",
       "      <td>NaN</td>\n",
       "      <td>1950.0</td>\n",
       "      <td>NaN</td>\n",
       "      <td>9.35</td>\n",
       "      <td>NaN</td>\n",
       "      <td>55.217852</td>\n",
       "      <td>30.675854</td>\n",
       "    </tr>\n",
       "    <tr>\n",
       "      <th>3</th>\n",
       "      <td>USGS</td>\n",
       "      <td>02086849</td>\n",
       "      <td>1986-08-20</td>\n",
       "      <td>NaN</td>\n",
       "      <td>2830.0</td>\n",
       "      <td>NaN</td>\n",
       "      <td>12.10</td>\n",
       "      <td>NaN</td>\n",
       "      <td>80.136677</td>\n",
       "      <td>39.698164</td>\n",
       "    </tr>\n",
       "    <tr>\n",
       "      <th>4</th>\n",
       "      <td>USGS</td>\n",
       "      <td>02086849</td>\n",
       "      <td>1987-04-16</td>\n",
       "      <td>NaN</td>\n",
       "      <td>1560.0</td>\n",
       "      <td>NaN</td>\n",
       "      <td>8.01</td>\n",
       "      <td>NaN</td>\n",
       "      <td>44.174281</td>\n",
       "      <td>26.279528</td>\n",
       "    </tr>\n",
       "  </tbody>\n",
       "</table>\n",
       "</div>"
      ],
      "text/plain": [
       "  Agency    SiteNo        Date Time  Discharge (cfs)  Discharge_quality  \\\n",
       "0   USGS  02086849  1983-05-20  NaN           2470.0                NaN   \n",
       "1   USGS  02086849  1984-04-05  NaN           2470.0                NaN   \n",
       "2   USGS  02086849  1985-02-01  NaN           1950.0                NaN   \n",
       "3   USGS  02086849  1986-08-20  NaN           2830.0                NaN   \n",
       "4   USGS  02086849  1987-04-16  NaN           1560.0                NaN   \n",
       "\n",
       "   Gage_ht (ft)  Gage_quality  Discharge (m3/sec)  Gage_ht (m)  \n",
       "0         11.05           NaN           69.942612    36.253282  \n",
       "1         11.03           NaN           69.942612    36.187665  \n",
       "2          9.35           NaN           55.217852    30.675854  \n",
       "3         12.10           NaN           80.136677    39.698164  \n",
       "4          8.01           NaN           44.174281    26.279528  "
      ]
     },
     "execution_count": 7,
     "metadata": {},
     "output_type": "execute_result"
    }
   ],
   "source": [
    "#now for some data cleanup\n",
    "peak_all['Discharge (m3/sec)'] = peak_all['Discharge (cfs)'] * 0.028316847\n",
    "peak_all['Gage_ht (m)'] = peak_all['Gage_ht (ft)'] * 3.28084\n",
    "new_station_name = \"0\" + str(peak_all['SiteNo'].unique()[0])\n",
    "peak_all['SiteNo'] = new_station_name\n",
    "peak_all.head()"
   ]
  },
  {
   "cell_type": "code",
   "execution_count": 11,
   "metadata": {},
   "outputs": [
    {
     "data": {
      "text/plain": [
       "<bound method NDFrame.head of    Agency    SiteNo       Date   Time  Discharge (cfs)  Discharge_quality  \\\n",
       "0    USGS  02086849 1983-05-20    NaN           2470.0                NaN   \n",
       "1    USGS  02086849 1984-04-05    NaN           2470.0                NaN   \n",
       "2    USGS  02086849 1985-02-01    NaN           1950.0                NaN   \n",
       "3    USGS  02086849 1986-08-20    NaN           2830.0                NaN   \n",
       "4    USGS  02086849 1987-04-16    NaN           1560.0                NaN   \n",
       "5    USGS  02086849 1988-08-29    NaN            808.0                NaN   \n",
       "6    USGS  02086849 1992-03-07    NaN           1450.0                NaN   \n",
       "7    USGS  02086849 1993-03-04    NaN           2360.0                NaN   \n",
       "8    USGS  02086849 1994-03-03    NaN           1630.0                NaN   \n",
       "9    USGS  02086849 1995-06-29    NaN              NaN                NaN   \n",
       "10   USGS  02086849 2006-09-05    NaN           1770.0                NaN   \n",
       "11   USGS  02086849 2006-12-25    NaN           2010.0                NaN   \n",
       "12   USGS  02086849 2008-09-06    NaN              NaN                NaN   \n",
       "13   USGS  02086849 2009-06-10    NaN           1750.0                NaN   \n",
       "14   USGS  02086849 2009-12-03    NaN           2360.0                NaN   \n",
       "15   USGS  02086849 2011-05-27    NaN           2000.0                NaN   \n",
       "16   USGS  02086849 2012-09-19    NaN           1970.0                NaN   \n",
       "17   USGS  02086849 2013-06-07    NaN           2500.0                NaN   \n",
       "18   USGS  02086849 2014-05-16    NaN           2550.0                NaN   \n",
       "19   USGS  02086849 2014-12-24    NaN           1370.0                NaN   \n",
       "20   USGS  02086849 2015-12-23    NaN           2680.0                NaN   \n",
       "21   USGS  02086849 2016-10-08    NaN           3130.0                NaN   \n",
       "22   USGS  02086849 2018-09-17  12:45           3140.0                9.0   \n",
       "23   USGS  02086849 2018-11-13  03:45           2680.0                NaN   \n",
       "\n",
       "    Gage_ht (ft)  Gage_quality  Discharge (m3/sec)  Gage_ht (m)  Year  \n",
       "0          11.05           NaN           69.942612    36.253282  1983  \n",
       "1          11.03           NaN           69.942612    36.187665  1984  \n",
       "2           9.35           NaN           55.217852    30.675854  1985  \n",
       "3          12.10           NaN           80.136677    39.698164  1986  \n",
       "4           8.01           NaN           44.174281    26.279528  1987  \n",
       "5           4.84           NaN           22.880012    15.879266  1988  \n",
       "6           9.36           NaN           41.059428    30.708662  1992  \n",
       "7          11.51           NaN           66.827759    37.762468  1993  \n",
       "8           9.99           NaN           46.156461    32.775592  1994  \n",
       "9          11.27           1.0                 NaN    36.975067  1995  \n",
       "10          9.20           NaN           50.120819    30.183728  2006  \n",
       "11         10.05           NaN           56.916862    32.972442  2006  \n",
       "12         12.13           1.0                 NaN    39.796589  2008  \n",
       "13          9.15           NaN           49.554482    30.019686  2009  \n",
       "14         11.20           NaN           66.827759    36.745408  2009  \n",
       "15         10.01           NaN           56.633694    32.841208  2011  \n",
       "16          9.92           NaN           55.784189    32.545933  2012  \n",
       "17         11.38           NaN           70.792118    37.335959  2013  \n",
       "18         11.51           NaN           72.207960    37.762468  2014  \n",
       "19          8.10           NaN           38.794080    26.574804  2014  \n",
       "20         11.82           NaN           75.889150    38.779529  2015  \n",
       "21         12.95           NaN           88.631731    42.486878  2016  \n",
       "22         12.96           NaN           88.914900    42.519686  2018  \n",
       "23         11.82           NaN           75.889150    38.779529  2018  >"
      ]
     },
     "execution_count": 11,
     "metadata": {},
     "output_type": "execute_result"
    }
   ],
   "source": [
    "#the fun date-time work\n",
    "peak_all['Date'] = pd.to_datetime(peak_all.Date)\n",
    "peak_all['Year'] = peak_all['Date'].dt.year\n",
    "peak_all.head\n",
    "#explain what the above lines of code do please"
   ]
  },
  {
   "cell_type": "code",
   "execution_count": 14,
   "metadata": {},
   "outputs": [
    {
     "name": "stdout",
     "output_type": "stream",
     "text": [
      "    Year  Discharge (m3/sec)  Gage_ht (m)  Discharge (cfs)\n",
      "0   1983           69.942612    36.253282           2470.0\n",
      "1   1984           69.942612    36.187665           2470.0\n",
      "2   1985           55.217852    30.675854           1950.0\n",
      "3   1986           80.136677    39.698164           2830.0\n",
      "4   1987           44.174281    26.279528           1560.0\n",
      "5   1988           22.880012    15.879266            808.0\n",
      "6   1992           41.059428    30.708662           1450.0\n",
      "7   1993           66.827759    37.762468           2360.0\n",
      "8   1994           46.156461    32.775592           1630.0\n",
      "10  2006           50.120819    30.183728           1770.0\n",
      "11  2006           56.916862    32.972442           2010.0\n",
      "13  2009           49.554482    30.019686           1750.0\n",
      "14  2009           66.827759    36.745408           2360.0\n",
      "15  2011           56.633694    32.841208           2000.0\n",
      "16  2012           55.784189    32.545933           1970.0\n",
      "17  2013           70.792118    37.335959           2500.0\n",
      "18  2014           72.207960    37.762468           2550.0\n",
      "19  2014           38.794080    26.574804           1370.0\n",
      "20  2015           75.889150    38.779529           2680.0\n",
      "21  2016           88.631731    42.486878           3130.0\n",
      "22  2018           88.914900    42.519686           3140.0\n",
      "23  2018           75.889150    38.779529           2680.0\n"
     ]
    }
   ],
   "source": [
    "#ok now that we've done some data management, let's pull out only the data we need\n",
    "peak = peak_all[['Year','Discharge (m3/sec)','Gage_ht (m)']]\n",
    "\n",
    "#now let's remove NaN  measurements\n",
    "peak = peak.dropna()\n",
    "print(peak)"
   ]
  },
  {
   "cell_type": "code",
   "execution_count": 15,
   "metadata": {},
   "outputs": [
    {
     "data": {
      "text/html": [
       "<div>\n",
       "<style scoped>\n",
       "    .dataframe tbody tr th:only-of-type {\n",
       "        vertical-align: middle;\n",
       "    }\n",
       "\n",
       "    .dataframe tbody tr th {\n",
       "        vertical-align: top;\n",
       "    }\n",
       "\n",
       "    .dataframe thead th {\n",
       "        text-align: right;\n",
       "    }\n",
       "</style>\n",
       "<table border=\"1\" class=\"dataframe\">\n",
       "  <thead>\n",
       "    <tr style=\"text-align: right;\">\n",
       "      <th></th>\n",
       "      <th>Year</th>\n",
       "      <th>Discharge (m3/sec)</th>\n",
       "      <th>Gage_ht (m)</th>\n",
       "      <th>Discharge (cfs)</th>\n",
       "    </tr>\n",
       "  </thead>\n",
       "  <tbody>\n",
       "    <tr>\n",
       "      <th>22</th>\n",
       "      <td>2018</td>\n",
       "      <td>88.914900</td>\n",
       "      <td>42.519686</td>\n",
       "      <td>3140.0</td>\n",
       "    </tr>\n",
       "    <tr>\n",
       "      <th>21</th>\n",
       "      <td>2016</td>\n",
       "      <td>88.631731</td>\n",
       "      <td>42.486878</td>\n",
       "      <td>3130.0</td>\n",
       "    </tr>\n",
       "    <tr>\n",
       "      <th>3</th>\n",
       "      <td>1986</td>\n",
       "      <td>80.136677</td>\n",
       "      <td>39.698164</td>\n",
       "      <td>2830.0</td>\n",
       "    </tr>\n",
       "    <tr>\n",
       "      <th>23</th>\n",
       "      <td>2018</td>\n",
       "      <td>75.889150</td>\n",
       "      <td>38.779529</td>\n",
       "      <td>2680.0</td>\n",
       "    </tr>\n",
       "    <tr>\n",
       "      <th>20</th>\n",
       "      <td>2015</td>\n",
       "      <td>75.889150</td>\n",
       "      <td>38.779529</td>\n",
       "      <td>2680.0</td>\n",
       "    </tr>\n",
       "  </tbody>\n",
       "</table>\n",
       "</div>"
      ],
      "text/plain": [
       "    Year  Discharge (m3/sec)  Gage_ht (m)  Discharge (cfs)\n",
       "22  2018           88.914900    42.519686           3140.0\n",
       "21  2016           88.631731    42.486878           3130.0\n",
       "3   1986           80.136677    39.698164           2830.0\n",
       "23  2018           75.889150    38.779529           2680.0\n",
       "20  2015           75.889150    38.779529           2680.0"
      ]
     },
     "execution_count": 15,
     "metadata": {},
     "output_type": "execute_result"
    }
   ],
   "source": [
    "peak = peak.sort_values('Discharge (m3/sec)',ascending=False)\n",
    "peak.head()"
   ]
  },
  {
   "cell_type": "code",
   "execution_count": 16,
   "metadata": {},
   "outputs": [
    {
     "name": "stdout",
     "output_type": "stream",
     "text": [
      "The total number of observations: 22\n",
      "    Year  Discharge (m3/sec)  Gage_ht (m)  Discharge (cfs)  Rank\n",
      "22  2018           88.914900    42.519686           3140.0     1\n",
      "21  2016           88.631731    42.486878           3130.0     2\n",
      "3   1986           80.136677    39.698164           2830.0     3\n",
      "23  2018           75.889150    38.779529           2680.0     4\n",
      "20  2015           75.889150    38.779529           2680.0     5\n"
     ]
    }
   ],
   "source": [
    "peak['Rank'] = range(1,peak.shape[0]+1)\n",
    "n = peak.shape[0]\n",
    "print('The total number of observations:', n)\n",
    "print(peak.head())"
   ]
  },
  {
   "cell_type": "code",
   "execution_count": 17,
   "metadata": {},
   "outputs": [
    {
     "name": "stdout",
     "output_type": "stream",
     "text": [
      "    Year  Discharge (m3/sec)  Gage_ht (m)  Discharge (cfs)  Rank  \\\n",
      "22  2018           88.914900    42.519686           3140.0     1   \n",
      "21  2016           88.631731    42.486878           3130.0     2   \n",
      "3   1986           80.136677    39.698164           2830.0     3   \n",
      "23  2018           75.889150    38.779529           2680.0     4   \n",
      "20  2015           75.889150    38.779529           2680.0     5   \n",
      "\n",
      "    Recurrence Interval (years)  \n",
      "22                    23.000000  \n",
      "21                    11.500000  \n",
      "3                      7.666667  \n",
      "23                     5.750000  \n",
      "20                     4.600000  \n"
     ]
    }
   ],
   "source": [
    "#helpful description of indexing dataframes in python & pandas\n",
    "#https://www.shanelynn.ie/select-pandas-dataframe-rows-and-columns-using-iloc-loc-and-ix/\n",
    "\n",
    "peak['Recurrence Interval (years)'] = (1 + n)/peak['Rank']\n",
    "print(peak.head())"
   ]
  },
  {
   "cell_type": "code",
   "execution_count": 18,
   "metadata": {},
   "outputs": [
    {
     "data": {
      "text/plain": [
       "<matplotlib.axes._subplots.AxesSubplot at 0x7f48acea07f0>"
      ]
     },
     "execution_count": 18,
     "metadata": {},
     "output_type": "execute_result"
    },
    {
     "data": {
      "image/png": "[encoded data removed]",
      "text/plain": [
       "<Figure size 432x288 with 1 Axes>"
      ]
     },
     "metadata": {
      "needs_background": "light"
     },
     "output_type": "display_data"
    }
   ],
   "source": [
    "#ok now to plot data\n",
    "peak.plot(x='Recurrence Interval (years)',y='Discharge (m3/sec)',\\\n",
    "          title='Flood Frequency of Station ' + peak_all['SiteNo'][0], \\\n",
    "          kind='scatter',logx=True)"
   ]
  },
  {
   "cell_type": "code",
   "execution_count": 19,
   "metadata": {},
   "outputs": [
    {
     "name": "stdout",
     "output_type": "stream",
     "text": [
      "[38.10465087 46.83815159]\n",
      "[1.0454545454545454, 23.0] [47.57376779 98.72631536]\n"
     ]
    }
   ],
   "source": [
    "#add the trendline\n",
    "x = peak['Recurrence Interval (years)']\n",
    "y = peak['Discharge (m3/sec)']\n",
    "f = np.polyfit(np.log10(x),y,1,w=np.sqrt(y))\n",
    "print(f)\n",
    "xf = [min(x),max(x)]\n",
    "yf = f[0]*np.log10(xf) + f[1]\n",
    "print(xf,yf)"
   ]
  },
  {
   "cell_type": "code",
   "execution_count": 20,
   "metadata": {},
   "outputs": [
    {
     "data": {
      "text/plain": [
       "[<matplotlib.lines.Line2D at 0x7f48a8449908>]"
      ]
     },
     "execution_count": 20,
     "metadata": {},
     "output_type": "execute_result"
    },
    {
     "data": {
      "image/png": "[encoded data removed]",
      "text/plain": [
       "<Figure size 432x288 with 1 Axes>"
      ]
     },
     "metadata": {
      "needs_background": "light"
     },
     "output_type": "display_data"
    }
   ],
   "source": [
    "ax = peak.plot(x='Recurrence Interval (years)',y='Discharge (m3/sec)',\\\n",
    "          title='Flood Frequency of Station ' + peak_all['SiteNo'][0], \\\n",
    "          kind='scatter',logx=True)\n",
    "plt.plot(xf,yf,'k--')"
   ]
  },
  {
   "cell_type": "code",
   "execution_count": 21,
   "metadata": {},
   "outputs": [
    {
     "name": "stdout",
     "output_type": "stream",
     "text": [
      "the 100 year discharge is: 123.04745333205895 m3/s\n"
     ]
    }
   ],
   "source": [
    "#What is the 100 year flood discharge? \n",
    "dis100 = f[0]*np.log10(100) + f[1]\n",
    "print('the 100 year discharge is:', dis100, 'm3/s')"
   ]
  },
  {
   "cell_type": "code",
   "execution_count": null,
   "metadata": {},
   "outputs": [],
   "source": [
    "#now lets look at the rating curve - aka stage vs. discharge\n",
    "peak.plot(x='Discharge (m3/sec)',y='Gage_ht (m)', \\\n",
    "          title='Rating Curve of Station ' + peak_all['SiteNo'][0], \\\n",
    "          kind='scatter')\n",
    "\n",
    "#can you fit a line to this plot? For predicting discharge for a given stage?\n",
    "x2 = peak['Discharge (m3/sec)']\n",
    "y2 = peak['Gage_ht (m)']\n",
    "f2 = np.polyfit(x2,y2,1)\n",
    "\n",
    "xf2 = np.array([min(x2),max(x2)])\n",
    "yf2 = f2[0]*xf2 + f2[1]\n",
    "print(xf2,yf2)\n",
    "plt.plot(xf2,yf2,'k--')"
   ]
  },
  {
   "cell_type": "code",
   "execution_count": null,
   "metadata": {},
   "outputs": [],
   "source": [
    "#what is the predicted stage for the 100 year flood?\n",
    "stg100 = f2[0]*dis100 + f2[1]\n",
    "print('the 100 year flood stage is:', stg100, 'm')"
   ]
  },
  {
   "cell_type": "markdown",
   "metadata": {},
   "source": [
    "Ok now that we've recreated flood recurrence interval analysis, what would you have to change to run this code on a different USGS station? What parameters might be different? What would you expect to be the same? How easy would it be to change these things?\n",
    "\n",
    "Let's look at other methods for visualizing and analyzing daily flow measurements. "
   ]
  },
  {
   "cell_type": "code",
   "execution_count": null,
   "metadata": {},
   "outputs": [],
   "source": [
    "#alright nice job - now let's look at daily measurements.\n",
    "daily_all = pd.read_csv('daily_02086849.txt',header=32,delimiter=\"\\t\",\\\n",
    "                        skiprows=[33],usecols=[0,1,2,3,9],parse_dates=True)\n",
    "daily_all.head()\n",
    "#again - note the header and skip-row number, these might need to change\n",
    "#for your file.."
   ]
  },
  {
   "cell_type": "code",
   "execution_count": null,
   "metadata": {},
   "outputs": [],
   "source": [
    "new_column_names = ['Agency', 'SiteNo', 'OldDateTime', \\\n",
    "                    'Discharge (cfs)', 'Gage_ht (ft)']\n",
    "daily_all.columns = new_column_names\n",
    "daily_all"
   ]
  },
  {
   "cell_type": "code",
   "execution_count": null,
   "metadata": {},
   "outputs": [],
   "source": [
    "#now for some data cleanup\n",
    "daily_all['Discharge (m3/sec)'] = daily_all['Discharge (cfs)'] * 0.028316847\n",
    "peak_all['Gage_ht (m)'] = peak_all['Gage_ht (ft)'] * 3.28084\n",
    "new_station_name = \"0\" + str(daily_all['SiteNo'].unique()[0])\n",
    "daily_all['SiteNo'] = new_station_name\n"
   ]
  },
  {
   "cell_type": "code",
   "execution_count": null,
   "metadata": {},
   "outputs": [],
   "source": [
    "#why do I keep printing out/displaying daily_all or peak or peak_all? \n",
    "#what is the use or reason for this in the code? \n",
    "#what are other methods you can use to check your code validity?"
   ]
  },
  {
   "cell_type": "code",
   "execution_count": null,
   "metadata": {},
   "outputs": [],
   "source": [
    "daily_all['DateTime'] = pd.to_datetime(daily_all['OldDateTime'])\n",
    "daily_all['Year'] = daily_all['DateTime'].dt.year\n",
    "daily_all['Month'] = daily_all['DateTime'].dt.month\n",
    "daily_all['Day'] = daily_all['DateTime'].dt.day\n",
    "print(daily_all.head())"
   ]
  },
  {
   "cell_type": "code",
   "execution_count": null,
   "metadata": {},
   "outputs": [],
   "source": [
    "#ok how can you now find the average flow for your birthday?\n",
    "avgdis_bday = daily_all['Discharge (m3/sec)'][((daily_all.Month==7)&(daily_all.Day==7))].mean()\n",
    "\n",
    "print('The average discharge for 7/7 is: ', avgdis_bday, 'm3/sec')\n",
    "#go ahead and redo this to find the minimum, maximum, and mean flow for YOUR birthday"
   ]
  },
  {
   "cell_type": "code",
   "execution_count": null,
   "metadata": {},
   "outputs": [],
   "source": [
    "#now go ahead and plot the daily average flow (aka average per day)\n",
    "#this is how we use the very useful function group by\n",
    "\n",
    "avg_daily = daily_all.groupby(['Month','Day'],as_index=False).mean()\n",
    "#ok how does the above line of code work? Look up groupby and explain what is done.\n",
    "\n",
    "avg_daily.Year = 2000 #random year chosen - must be a leap year for datetime to work!\n"
   ]
  },
  {
   "cell_type": "code",
   "execution_count": null,
   "metadata": {},
   "outputs": [],
   "source": [
    "avg_daily['Date'] = pd.to_datetime(avg_daily[['Year','Month','Day']])\n"
   ]
  },
  {
   "cell_type": "code",
   "execution_count": null,
   "metadata": {},
   "outputs": [],
   "source": [
    "#now go ahead and plot your avg daily value\n",
    "avg_daily.plot(x='Date',y='Discharge (m3/sec)',\\\n",
    "               title='Averaged Daily Flow of Station ' + peak_all['SiteNo'][0], \\\n",
    "              kind='scatter')\n",
    "\n",
    "#now can you plot a monthly mean? Let's use the groupby again\n",
    "avg_m = daily_all.groupby(['Month'],as_index=False).mean()\n",
    "avg_m['Day'] = 15 #add in a fake day\n",
    "avg_m['Year'] = 2000 #add in a fake year that fits the data - make sure it matches above\n",
    "avg_m['Date'] = pd.to_datetime(avg_m[['Year','Month','Day']])\n",
    "print(avg_m)\n",
    "plt.plot(avg_m.Date,avg_m['Discharge (m3/sec)'],'--m',linewidth=4)\n",
    "\n",
    "#does the monthly average match the daily averages values - are the trends holding?"
   ]
  },
  {
   "cell_type": "code",
   "execution_count": null,
   "metadata": {
    "scrolled": true
   },
   "outputs": [],
   "source": [
    "print(daily_all.head())\n",
    "\n",
    "#now let's talk about calc. the per month average flow over our timeseries (aka resample our data)\n",
    "#look at this or some helpful information https://sergilehkyi.com/tips-on-working-with-datetime-index-in-pandas/"
   ]
  },
  {
   "cell_type": "code",
   "execution_count": null,
   "metadata": {},
   "outputs": [],
   "source": [
    "daily_all2 = daily_all.set_index('DateTime')\n",
    "print(daily_all2.head())"
   ]
  },
  {
   "cell_type": "code",
   "execution_count": null,
   "metadata": {},
   "outputs": [],
   "source": [
    "ma = daily_all2.resample('M').mean() #look up what this command does - this can be very powerful"
   ]
  },
  {
   "cell_type": "code",
   "execution_count": null,
   "metadata": {},
   "outputs": [],
   "source": [
    "print(ma.head())\n",
    "print(daily_all2.head())"
   ]
  },
  {
   "cell_type": "code",
   "execution_count": null,
   "metadata": {},
   "outputs": [],
   "source": [
    "daily_all.plot(x='DateTime', y='Discharge (m3/sec)',kind='scatter')\n",
    "plt.plot(ma.index,ma['Discharge (m3/sec)'],\"--k\",linewidth=3)"
   ]
  },
  {
   "cell_type": "code",
   "execution_count": null,
   "metadata": {},
   "outputs": [],
   "source": []
  }
 ],
 "metadata": {
  "kernelspec": {
   "display_name": "Python 3",
   "language": "python",
   "name": "python3"
  },
  "language_info": {
   "codemirror_mode": {
    "name": "ipython",
    "version": 3
   },
   "file_extension": ".py",
   "mimetype": "text/x-python",
   "name": "python",
   "nbconvert_exporter": "python",
   "pygments_lexer": "ipython3",
   "version": "3.6.10"
  }
 },
 "nbformat": 4,
 "nbformat_minor": 2
}
